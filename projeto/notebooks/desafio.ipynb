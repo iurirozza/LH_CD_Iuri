{
 "cells": [
  {
   "cell_type": "code",
   "execution_count": 1,
   "metadata": {},
   "outputs": [],
   "source": [
    "#importando o pandas\n",
    "import pandas as pd"
   ]
  },
  {
   "cell_type": "code",
   "execution_count": 4,
   "metadata": {},
   "outputs": [],
   "source": [
    "# Carregar o arquivo CSV\n",
    "file_path = 'desafio_indicium_imdb.csv'\n",
    "df = pd.read_csv(file_path)"
   ]
  },
  {
   "cell_type": "code",
   "execution_count": 5,
   "metadata": {},
   "outputs": [
    {
     "name": "stdout",
     "output_type": "stream",
     "text": [
      "<class 'pandas.core.frame.DataFrame'>\n",
      "RangeIndex: 999 entries, 0 to 998\n",
      "Data columns (total 16 columns):\n",
      " #   Column         Non-Null Count  Dtype  \n",
      "---  ------         --------------  -----  \n",
      " 0   Unnamed: 0     999 non-null    int64  \n",
      " 1   Series_Title   999 non-null    object \n",
      " 2   Released_Year  999 non-null    object \n",
      " 3   Certificate    898 non-null    object \n",
      " 4   Runtime        999 non-null    object \n",
      " 5   Genre          999 non-null    object \n",
      " 6   IMDB_Rating    999 non-null    float64\n",
      " 7   Overview       999 non-null    object \n",
      " 8   Meta_score     842 non-null    float64\n",
      " 9   Director       999 non-null    object \n",
      " 10  Star1          999 non-null    object \n",
      " 11  Star2          999 non-null    object \n",
      " 12  Star3          999 non-null    object \n",
      " 13  Star4          999 non-null    object \n",
      " 14  No_of_Votes    999 non-null    int64  \n",
      " 15  Gross          830 non-null    object \n",
      "dtypes: float64(2), int64(2), object(12)\n",
      "memory usage: 125.0+ KB\n"
     ]
    },
    {
     "data": {
      "text/plain": [
       "(   Unnamed: 0                                   Series_Title Released_Year  \\\n",
       " 0           1                                  The Godfather          1972   \n",
       " 1           2                                The Dark Knight          2008   \n",
       " 2           3                         The Godfather: Part II          1974   \n",
       " 3           4                                   12 Angry Men          1957   \n",
       " 4           5  The Lord of the Rings: The Return of the King          2003   \n",
       " \n",
       "   Certificate  Runtime                     Genre  IMDB_Rating  \\\n",
       " 0           A  175 min              Crime, Drama          9.2   \n",
       " 1          UA  152 min      Action, Crime, Drama          9.0   \n",
       " 2           A  202 min              Crime, Drama          9.0   \n",
       " 3           U   96 min              Crime, Drama          9.0   \n",
       " 4           U  201 min  Action, Adventure, Drama          8.9   \n",
       " \n",
       "                                             Overview  Meta_score  \\\n",
       " 0  An organized crime dynasty's aging patriarch t...       100.0   \n",
       " 1  When the menace known as the Joker wreaks havo...        84.0   \n",
       " 2  The early life and career of Vito Corleone in ...        90.0   \n",
       " 3  A jury holdout attempts to prevent a miscarria...        96.0   \n",
       " 4  Gandalf and Aragorn lead the World of Men agai...        94.0   \n",
       " \n",
       "                Director           Star1            Star2          Star3  \\\n",
       " 0  Francis Ford Coppola   Marlon Brando        Al Pacino     James Caan   \n",
       " 1     Christopher Nolan  Christian Bale     Heath Ledger  Aaron Eckhart   \n",
       " 2  Francis Ford Coppola       Al Pacino   Robert De Niro  Robert Duvall   \n",
       " 3          Sidney Lumet     Henry Fonda      Lee J. Cobb  Martin Balsam   \n",
       " 4         Peter Jackson     Elijah Wood  Viggo Mortensen   Ian McKellen   \n",
       " \n",
       "            Star4  No_of_Votes        Gross  \n",
       " 0   Diane Keaton      1620367  134,966,411  \n",
       " 1  Michael Caine      2303232  534,858,444  \n",
       " 2   Diane Keaton      1129952   57,300,000  \n",
       " 3   John Fiedler       689845    4,360,000  \n",
       " 4  Orlando Bloom      1642758  377,845,905  ,\n",
       " None,\n",
       "        Unnamed: 0  IMDB_Rating  Meta_score   No_of_Votes\n",
       " count  999.000000   999.000000  842.000000  9.990000e+02\n",
       " mean   500.000000     7.947948   77.969121  2.716214e+05\n",
       " std    288.530761     0.272290   12.383257  3.209126e+05\n",
       " min      1.000000     7.600000   28.000000  2.508800e+04\n",
       " 25%    250.500000     7.700000   70.000000  5.547150e+04\n",
       " 50%    500.000000     7.900000   79.000000  1.383560e+05\n",
       " 75%    749.500000     8.100000   87.000000  3.731675e+05\n",
       " max    999.000000     9.200000  100.000000  2.303232e+06)"
      ]
     },
     "execution_count": 5,
     "metadata": {},
     "output_type": "execute_result"
    }
   ],
   "source": [
    "# Exibir as primeiras linhas do dataframe e informações gerais\n",
    "df.head(), df.info(), df.describe()"
   ]
  },
  {
   "cell_type": "code",
   "execution_count": null,
   "metadata": {},
   "outputs": [],
   "source": [
    "import matplotlib.pyplot as plt\n",
    "import seaborn as sns"
   ]
  },
  {
   "cell_type": "code",
   "execution_count": null,
   "metadata": {},
   "outputs": [],
   "source": [
    "# Configurar estilo de visualização\n",
    "sns.set(style=\"whitegrid\")"
   ]
  },
  {
   "cell_type": "code",
   "execution_count": null,
   "metadata": {},
   "outputs": [],
   "source": [
    "# Gráficos das distribuições das principais variáveis numéricas\n",
    "fig, axes = plt.subplots(2, 2, figsize=(15, 10))"
   ]
  },
  {
   "cell_type": "code",
   "execution_count": null,
   "metadata": {},
   "outputs": [],
   "source": [
    "# Distribuição da nota do IMDB\n",
    "sns.histplot(df['IMDB_Rating'], bins=20, kde=True, ax=axes[0, 0])\n",
    "axes[0, 0].set_title('Distribuição da Nota do IMDB')"
   ]
  },
  {
   "cell_type": "code",
   "execution_count": null,
   "metadata": {},
   "outputs": [],
   "source": [
    "# Distribuição do número de votos\n",
    "sns.histplot(df['No_of_Votes'], bins=20, kde=True, ax=axes[0, 1])\n",
    "axes[0, 1].set_title('Distribuição do Número de Votos')"
   ]
  },
  {
   "cell_type": "code",
   "execution_count": null,
   "metadata": {},
   "outputs": [],
   "source": [
    "# Distribuição do Meta Score\n",
    "sns.histplot(df['Meta_score'].dropna(), bins=20, kde=True, ax=axes[1, 0])\n",
    "axes[1, 0].set_title('Distribuição do Meta Score')"
   ]
  },
  {
   "cell_type": "code",
   "execution_count": null,
   "metadata": {},
   "outputs": [],
   "source": [
    "# Distribuição do Faturamento (Gross) - primeiro remover caracteres indesejados e converter para numérico\n",
    "df['Gross'] = df['Gross'].replace('[\\$,]', '', regex=True).astype(float)\n",
    "sns.histplot(df['Gross'].dropna(), bins=20, kde=True, ax=axes[1, 1])\n",
    "axes[1, 1].set_title('Distribuição do Faturamento')\n",
    "plt.tight_layout()\n",
    "plt.show()"
   ]
  },
  {
   "cell_type": "code",
   "execution_count": null,
   "metadata": {},
   "outputs": [],
   "source": [
    "# Análise de correlação entre as variáveis numéricas\n",
    "correlation_matrix = df.corr()\n",
    "plt.figure(figsize=(12, 8))\n",
    "sns.heatmap(correlation_matrix, annot=True, cmap='coolwarm', linewidths=0.5)\n",
    "plt.title('Matriz de Correlação')\n",
    "plt.show()"
   ]
  },
  {
   "cell_type": "code",
   "execution_count": null,
   "metadata": {},
   "outputs": [],
   "source": [
    "# Contagem de filmes por ano de lançamento\n",
    "plt.figure(figsize=(15, 6))\n",
    "sns.countplot(data=df, x='Released_Year', order=df['Released_Year'].value_counts().index)\n",
    "plt.title('Contagem de Filmes por Ano de Lançamento')\n",
    "plt.xticks(rotation=90)\n",
    "plt.show()"
   ]
  },
  {
   "cell_type": "code",
   "execution_count": null,
   "metadata": {},
   "outputs": [],
   "source": [
    "# Contagem de filmes por gênero\n",
    "plt.figure(figsize=(15, 6))\n",
    "sns.countplot(data=df, y='Genre', order=df['Genre'].value_counts().index)\n",
    "plt.title('Contagem de Filmes por Gênero')\n",
    "plt.show()"
   ]
  },
  {
   "cell_type": "code",
   "execution_count": null,
   "metadata": {},
   "outputs": [],
   "source": [
    "#Distribuições\n",
    "\n",
    "#Distribuição da Nota do IMDB:\n",
    "#A maioria dos filmes tem notas entre 7.6 e 9.2, com uma média próxima de 7.95.\n",
    "\n",
    "#Distribuição do Número de Votos:\n",
    "#A maioria dos filmes tem menos de 400 mil votos, com uma distribuição altamente assimétrica.\n",
    "\n",
    "#Distribuição do Meta Score:\n",
    "#A pontuação média dos filmes está entre 70 e 80.\n",
    "\n",
    "#Distribuição do Faturamento:\n",
    "#O faturamento dos filmes varia amplamente, com muitos filmes arrecadando menos de 100 milhões de dólares e alguns ultrapassando os 500 milhões.\n",
    "\n",
    "#Correlações\n",
    "#A matriz de correlação indica uma correlação positiva moderada entre No_of_Votes e IMDB_Rating e uma correlação negativa entre IMDB_Rating e Runtime.\n",
    "#Contagens\n",
    "\n",
    "##Filmes por Ano de Lançamento:\n",
    "#Os anos com mais lançamentos são principalmente dos anos 2000 e 2010.\n",
    "\n",
    "#Filmes por Gênero:\n",
    "#Drama, ação e comédia são os gêneros mais comuns.\n",
    "\n",
    "#Respostas às Perguntas\n",
    "\n",
    "#2a - Qual filme você recomendaria para uma pessoa que você não conhece?\n",
    "\n",
    "V#ou considerar um filme bem avaliado e com um gênero popular. Filmes como \"The Dark Knight\" (2008) ou \"The Shawshank Redemption\" (1994) são boas escolhas, pois têm alta pontuação no IMDB e são amplamente apreciados.\n",
    "\n",
    "#2b- Quais são os principais fatores que estão relacionados com alta expectativa de faturamento de um filme?\n",
    "\n",
    "#Baseado na correlação observada, o número de votos (No_of_Votes) e o Meta_score parecem ser bons indicativos de sucesso financeiro. Filmes com altos valores nesses atributos tendem a ter um faturamento maior.\n",
    "\n",
    "#2c- Quais insights podem ser tirados com a coluna Overview? É possível inferir o gênero do filme a partir dessa coluna?\n",
    "\n",
    "#A coluna Overview pode ser analisada usando técnicas de NLP para extrair temas e padrões de texto. Com a análise de sentimentos e clustering, podemos tentar inferir o gênero do filme.\n",
    "\n",
    "#3- Explique como você faria a previsão da nota do IMDB a partir dos dados.\n",
    "\n",
    "#Variáveis Utilizadas: Released_Year, Certificate, Runtime, Genre, Meta_score, No_of_Votes, Gross.\n",
    "\n",
    "#Transformações:\n",
    "#Conversão de Runtime para minutos.\n",
    "#Codificação das variáveis categóricas (Genre, Certificate).\n",
    "#Tratamento de valores nulos.\n",
    "\n",
    "#Tipo de Problema: Regressão.\n",
    "\n",
    "#Modelos: Regressão Linear, Random Forest, XGBoost.\n",
    "\n",
    "#Medida de Performance: Mean Absolute Error (MAE), por ser intuitiva e facilmente interpretável."
   ]
  },
  {
   "cell_type": "code",
   "execution_count": null,
   "metadata": {},
   "outputs": [],
   "source": [
    "# 4: Dados do filme\n",
    "film_data = {\n",
    "    'Released_Year': 1994,\n",
    "    'Certificate': 'A',\n",
    "    'Runtime': 142,  # convertido para minutos\n",
    "    'Genre': 'Drama',\n",
    "    'Meta_score': 80.0,\n",
    "    'No_of_Votes': 2343110,\n",
    "    'Gross': '28,341,469'  # será convertido para numérico\n",
    "}\n",
    "\n",
    "# Preparar os dados do filme\n",
    "film_data['Gross'] = film_data['Gross'].replace('[\\$,]', '', regex=True).astype(float)\n",
    "\n",
    "# Encoder para 'Genre' e 'Certificate'\n",
    "label_encoder_genre = LabelEncoder()\n",
    "label_encoder_certificate = LabelEncoder()\n",
    "\n",
    "# Treinar os encoders com os dados completos\n",
    "df = pd.read_csv('/mnt/data/desafio_indicium_imdb.csv')\n",
    "df['Runtime'] = df['Runtime'].str.replace(' min', '').astype(int)\n",
    "df['Gross'] = df['Gross'].replace('[\\$,]', '', regex=True).astype(float).fillna(df['Gross'].median())\n",
    "df['Meta_score'] = df['Meta_score'].fillna(df['Meta_score'].median())\n",
    "df['Certificate'] = df['Certificate'].fillna('Not Rated')\n",
    "df['Genre'] = label_encoder_genre.fit_transform(df['Genre'])\n",
    "df['Certificate'] = label_encoder_certificate.fit_transform(df['Certificate'])\n",
    "\n",
    "# Codificar os valores do novo filme\n",
    "film_data['Genre'] = label_encoder_genre.transform([film_data['Genre']])[0]\n",
    "film_data['Certificate'] = label_encoder_certificate.transform([film_data['Certificate']])[0]\n",
    "\n",
    "# Modelo treinado (simulado aqui)\n",
    "model = RandomForestRegressor(n_estimators=100, random_state=42)\n",
    "X = df[['Released_Year', 'Certificate', 'Runtime', 'Genre', 'Meta_score', 'No_of_Votes', 'Gross']]\n",
    "y = df['IMDB_Rating']\n",
    "model.fit(X, y)\n",
    "\n",
    "# Previsão\n",
    "film_df = pd.DataFrame([film_data])\n",
    "predicted_rating = model.predict(film_df)[0]\n",
    "predicted_rating"
   ]
  },
  {
   "cell_type": "code",
   "execution_count": null,
   "metadata": {},
   "outputs": [],
   "source": [
    "# Vamos continuar com a análise da coluna Overview e a criação do modelo para previsão da nota do IMDB. ​\n",
    "from sklearn.feature_extraction.text import TfidfVectorizer\n",
    "from sklearn.decomposition import TruncatedSVD\n",
    "from wordcloud import WordCloud"
   ]
  },
  {
   "cell_type": "code",
   "execution_count": null,
   "metadata": {},
   "outputs": [],
   "source": [
    "# Análise de texto da coluna Overview\n",
    "vectorizer = TfidfVectorizer(stop_words='english', max_features=1000)\n",
    "X_overview = vectorizer.fit_transform(df['Overview'])"
   ]
  },
  {
   "cell_type": "code",
   "execution_count": null,
   "metadata": {},
   "outputs": [],
   "source": [
    "# Reduzir a dimensionalidade para 2 componentes para visualização\n",
    "svd = TruncatedSVD(n_components=2, random_state=42)\n",
    "X_reduced = svd.fit_transform(X_overview)"
   ]
  },
  {
   "cell_type": "code",
   "execution_count": null,
   "metadata": {},
   "outputs": [],
   "source": [
    "# Criação de um WordCloud para visualizar as palavras mais comuns\n",
    "wordcloud = WordCloud(width=800, height=400, max_words=100, background_color='white').generate(' '.join(df['Overview']))"
   ]
  },
  {
   "cell_type": "code",
   "execution_count": null,
   "metadata": {},
   "outputs": [],
   "source": [
    "# Plotar o WordCloud\n",
    "plt.figure(figsize=(10, 5))\n",
    "plt.imshow(wordcloud, interpolation='bilinear')\n",
    "plt.axis('off')\n",
    "plt.title('Palavras mais comuns nos Overviews dos Filmes')\n",
    "plt.show()\n"
   ]
  },
  {
   "cell_type": "code",
   "execution_count": null,
   "metadata": {},
   "outputs": [],
   "source": [
    "#Previsão da Nota do IMDB\n",
    "#Vamos agora preparar os dados e criar um modelo para prever a nota do IMDB.\n",
    "\n",
    "#Preparação dos Dados\n",
    "#Conversão de Runtime para minutos.\n",
    "#Codificação das variáveis categóricas (Genre, Certificate).\n",
    "#Tratamento de valores nulos.\n",
    "#Divisão dos dados em treino e teste.\n",
    "#Vamos realizar essas etapas e, em seguida, criar e treinar um modelo de regressão. \n",
    "from sklearn.model_selection import train_test_split\n",
    "from sklearn.preprocessing import LabelEncoder\n",
    "from sklearn.ensemble import RandomForestRegressor\n",
    "from sklearn.metrics import mean_absolute_error\n",
    "import numpy as np\n"
   ]
  },
  {
   "cell_type": "code",
   "execution_count": null,
   "metadata": {},
   "outputs": [],
   "source": [
    "# Tratar a coluna Runtime para converter para minutos\n",
    "df['Runtime'] = df['Runtime'].str.replace(' min', '').astype(int)"
   ]
  },
  {
   "cell_type": "code",
   "execution_count": null,
   "metadata": {},
   "outputs": [],
   "source": [
    "# Tratar valores nulos na coluna Gross\n",
    "df['Gross'] = df['Gross'].fillna(df['Gross'].median())"
   ]
  },
  {
   "cell_type": "code",
   "execution_count": null,
   "metadata": {},
   "outputs": [],
   "source": [
    "# Tratar valores nulos na coluna Meta_score\n",
    "df['Meta_score'] = df['Meta_score'].fillna(df['Meta_score'].median())"
   ]
  },
  {
   "cell_type": "code",
   "execution_count": null,
   "metadata": {},
   "outputs": [],
   "source": [
    "# Tratar valores nulos na coluna Certificate\n",
    "df['Certificate'] = df['Certificate'].fillna('Not Rated')"
   ]
  },
  {
   "cell_type": "code",
   "execution_count": null,
   "metadata": {},
   "outputs": [],
   "source": [
    "# Codificação das variáveis categóricas\n",
    "label_encoder = LabelEncoder()\n",
    "df['Genre'] = label_encoder.fit_transform(df['Genre'])\n",
    "df['Certificate'] = label_encoder.fit_transform(df['Certificate'])"
   ]
  },
  {
   "cell_type": "code",
   "execution_count": null,
   "metadata": {},
   "outputs": [],
   "source": [
    "# Selecionar as colunas para treinamento\n",
    "features = ['Released_Year', 'Certificate', 'Runtime', 'Genre', 'Meta_score', 'No_of_Votes', 'Gross']\n",
    "target = 'IMDB_Rating'"
   ]
  },
  {
   "cell_type": "code",
   "execution_count": null,
   "metadata": {},
   "outputs": [],
   "source": [
    "# Conversão da coluna Released_Year para numérico\n",
    "df['Released_Year'] = pd.to_numeric(df['Released_Year'], errors='coerce')\n",
    "df['Released_Year'] = df['Released_Year'].fillna(df['Released_Year'].median())"
   ]
  },
  {
   "cell_type": "code",
   "execution_count": null,
   "metadata": {},
   "outputs": [],
   "source": [
    "# Divisão dos dados em treino e teste\n",
    "X = df[features]\n",
    "y = df[target]\n",
    "X_train, X_test, y_train, y_test = train_test_split(X, y, test_size=0.2, random_state=42)\n"
   ]
  },
  {
   "cell_type": "code",
   "execution_count": null,
   "metadata": {},
   "outputs": [],
   "source": [
    "# Treinamento do modelo Random Forest\n",
    "model = RandomForestRegressor(n_estimators=100, random_state=42)\n",
    "model.fit(X_train, y_train)"
   ]
  },
  {
   "cell_type": "code",
   "execution_count": null,
   "metadata": {},
   "outputs": [],
   "source": [
    "# Previsão e avaliação do modelo\n",
    "y_pred = model.predict(X_test)\n",
    "mae = mean_absolute_error(y_test, y_pred)"
   ]
  }
 ],
 "metadata": {
  "kernelspec": {
   "display_name": "Python 3",
   "language": "python",
   "name": "python3"
  },
  "language_info": {
   "codemirror_mode": {
    "name": "ipython",
    "version": 3
   },
   "file_extension": ".py",
   "mimetype": "text/x-python",
   "name": "python",
   "nbconvert_exporter": "python",
   "pygments_lexer": "ipython3",
   "version": "3.12.4"
  }
 },
 "nbformat": 4,
 "nbformat_minor": 2
}
